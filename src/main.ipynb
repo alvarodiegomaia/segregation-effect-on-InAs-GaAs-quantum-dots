{
 "cells": [
  {
   "cell_type": "code",
   "execution_count": 1,
   "metadata": {},
   "outputs": [],
   "source": [
    "import numpy as np\n",
    "import matplotlib.pyplot as plt\n",
    "import scipy.special as sc\n",
    "from scipy.integrate import quad"
   ]
  },
  {
   "cell_type": "markdown",
   "metadata": {},
   "source": [
    "## Physical constants"
   ]
  },
  {
   "cell_type": "code",
   "execution_count": 2,
   "metadata": {},
   "outputs": [],
   "source": [
    "# Physical constants\n",
    "pi = np.pi\n",
    "angstron = 1e-10\n",
    "hBar =  6.626086e-34/(2 * pi)\n",
    "eV = 1.60217646e-19\n",
    "\n",
    "# Electron constants\n",
    "electronMass = 9.11e-31\n",
    "electronMassBarrier = 0.0665 * electronMass\n",
    "\n",
    "# Hole constant\n",
    "holeMass = 2.18 * electronMass\n",
    "holeMassBarrier = 0.33 * electronMass"
   ]
  },
  {
   "cell_type": "markdown",
   "metadata": {},
   "source": [
    "## Model parameters"
   ]
  },
  {
   "cell_type": "markdown",
   "metadata": {},
   "source": [
    "### Physical model parameters"
   ]
  },
  {
   "cell_type": "code",
   "execution_count": 3,
   "metadata": {},
   "outputs": [],
   "source": [
    "# Temperatura [K]\n",
    "T = 77.0\n",
    "\n",
    "# Porção do offset da banda de condução [%]\n",
    "offset = 70.0"
   ]
  },
  {
   "cell_type": "markdown",
   "metadata": {},
   "source": [
    "### Quantum dot input parameters"
   ]
  },
  {
   "cell_type": "code",
   "execution_count": 4,
   "metadata": {},
   "outputs": [],
   "source": [
    "# Quantum dot height [Angstrons]\n",
    "heightQD = 40.0\n",
    "\n",
    "# QUantum dot radius [Angstrons]\n",
    "radiusQD = 100.0\n",
    "\n",
    "# Wetting layer thickness [Angstrons]      \n",
    "thicknessWL = 14 * 2.82675\n",
    "\n",
    "# Cylinder height [Angstrons]\n",
    "heightcylinder = 1600.0\n",
    "\n",
    "# Cylinder radius [Angstrons]\n",
    "radiuscylinder = 1600.0\n",
    "\n",
    "# Concentration of In na liga de In_xGa_(1-x)As at the QD bottom\n",
    "concentrationInAs_i = 0.0\n",
    "\n",
    "# Concentration of In na liga de In_xGa_(1-x)As at the QD top\n",
    "concentrationInAs_F = 100.0\n",
    "\n",
    "# Particle mass on barrier in Kg\n",
    "massBarrier = electronMassBarrier\n",
    "\n",
    "# Define the valor of hz\n",
    "posWL = ((radiusQD ** 2 -heightQD ** 2) / (2 * heightQD)) "
   ]
  },
  {
   "cell_type": "markdown",
   "metadata": {},
   "source": [
    "### Scale transformation"
   ]
  },
  {
   "cell_type": "code",
   "execution_count": 5,
   "metadata": {},
   "outputs": [],
   "source": [
    "hQD = heightQD * angstron\n",
    "r0 = radiusQD * angstron\n",
    "hWL = thicknessWL * angstron\n",
    "hC = heightcylinder * angstron\n",
    "rC = radiuscylinder * angstron\n",
    "h0 = posWL * angstron\n",
    "x0 = concentrationInAs_i / 100.0\n",
    "x1 = concentrationInAs_F / 100.0\n",
    "\n",
    "R = hQD + h0"
   ]
  },
  {
   "cell_type": "markdown",
   "metadata": {},
   "source": [
    "## Expansion parameters"
   ]
  },
  {
   "cell_type": "code",
   "execution_count": 6,
   "metadata": {},
   "outputs": [],
   "source": [
    "# Max value of the quantum numbers\n",
    "mmax = 0\n",
    "lmax = 70\n",
    "nmax = 50\n",
    "\n",
    "# Matriz dimension\n",
    "dimension = lmax * nmax"
   ]
  },
  {
   "cell_type": "markdown",
   "metadata": {},
   "source": [
    "## Functions"
   ]
  },
  {
   "cell_type": "code",
   "execution_count": 65,
   "metadata": {},
   "outputs": [],
   "source": [
    "def x(z):\n",
    "    \"\"\"\n",
    "    Returns the InAs concentration along the z-axis\n",
    "\n",
    "    Args:\n",
    "        z (float): distance in z-axis\n",
    "\n",
    "    Returns:\n",
    "        float: InAs concentration\n",
    "    \"\"\"\n",
    "\n",
    "    if  z <= h0 - hWL: \n",
    "            return 0\n",
    "\n",
    "    if z > R:\n",
    "        return 0\n",
    "\n",
    "    if z <= h0:\n",
    "        return 0\n",
    "\n",
    "    return (x1 - x0) / (R - h0) * z + (x0 - h0 * (x1 - x0) / (R - h0))\n",
    "\n",
    "\n",
    "def zQD(r):\n",
    "    \"\"\"\n",
    "    Height of the QD in a radial distance r\n",
    "\n",
    "    Args:\n",
    "        r (float): Radial distance in Angstrons\n",
    "    \n",
    "    Returns:\n",
    "        float: The height of the quantum dot in Angstrons\n",
    "    \"\"\" \n",
    "\n",
    "    return np.sqrt(R ** 2 - r ** 2) - h0\n",
    "\n",
    "\n",
    "def KroneckerDelta(i, j):\n",
    "    \"\"\"\n",
    "    Kronecker delta\n",
    "\n",
    "    Args:\n",
    "        i (int): i index\n",
    "        j (int): j index\n",
    "    \"\"\"\n",
    "    return int(i == j)\n",
    "\n",
    "\n",
    "def A_InGaAs(x):\n",
    "    \"\"\"\n",
    "    Net parameter of In_XGa_(1-x)As in meters.\n",
    "\n",
    "    Args:\n",
    "        T (float): Temperature in K\n",
    "        x (float): InAs Concentration\n",
    "    \"\"\"\n",
    "    return (5.65325 + 3.88E-5 * (T - 300.0) + (0.40505 - 1.14E-5 * (T - 300.0)) * x) * angstron"
   ]
  },
  {
   "cell_type": "code",
   "execution_count": 55,
   "metadata": {},
   "outputs": [],
   "source": [
    "def DivQD(x):\n",
    "    \"\"\"\n",
    "    returns the number of discs in the division of the QD\n",
    "\n",
    "    Args:\n",
    "        T (float): Temperature in K\n",
    "        x (float): Concentration of InAs\n",
    "    \"\"\"\n",
    "    \n",
    "    return (1 + np.round(hQD / (A_InGaAs(x) / 2))).astype(int)\n",
    "\n",
    "\n",
    "def DivWL(x):\n",
    "    \"\"\"\n",
    "    returns the number of discs in the division of the WL\n",
    "\n",
    "    Args:\n",
    "        T (float): Temperature in K\n",
    "        x (float): Concentration of InAs\n",
    "        hWL (float): Thickness of the WL\n",
    "    \"\"\"\n",
    "    \n",
    "    return (1 + np.round(hWL / (A_InGaAs(x) / 2))).astype(int)\n",
    "\n",
    "\n",
    "def DeltaL_QD(x):\n",
    "    \"\"\"\n",
    "    returns the thickness of discs in the division of the QD\n",
    "\n",
    "    Args:\n",
    "        T (float): Temperature in K\n",
    "        x (float): Concentration of InAs\n",
    "        hQD (float): Height of the QD\n",
    "    \"\"\"\n",
    "    \n",
    "    return hQD/DivQD(x)\n",
    "\n",
    "\n",
    "def DeltaL_WL(x):\n",
    "    \"\"\"\n",
    "    returns the thickness of discs in the division of the WL\n",
    "\n",
    "    Args:\n",
    "        T (float): Temperature in K\n",
    "        x (float): Concentration of InAs\n",
    "        hWL (float): Height of the QD\n",
    "    \"\"\"\n",
    "    \n",
    "    return hWL/DivWL(x)\n",
    "\n",
    "\n",
    "def Rj(j):\n",
    "    return np.sqrt(R ** 2 - (h0 + j * DivQD(x1)) ** 2)"
   ]
  },
  {
   "cell_type": "code",
   "execution_count": 10,
   "metadata": {},
   "outputs": [],
   "source": [
    "def Mass1(x):\n",
    "    \"\"\"\n",
    "    Parallel effective mass in unities of m0.\n",
    "\n",
    "    Args:\n",
    "        x (float): InAs Concentration\n",
    "    \"\"\"\n",
    "    return (0.067 - 0.0131318 * x - 0.015862 * x ** 2) * electronMass\n",
    "\n",
    "\n",
    "def Mass2(x):\n",
    "    \"\"\"\n",
    "    Perpendicular effective mass in unities of m0.\n",
    "\n",
    "    Args:\n",
    "        x (float): InAs Concentration\n",
    "    \"\"\"\n",
    "    return (0.067 - 0.000173691 * x - 0.0246154 * x ** 2) * electronMass\n",
    "\n",
    "\n",
    "def v0(x):\n",
    "    \"\"\"\n",
    "    The height of the potential barrier for the conduction band\n",
    "\n",
    "    Args:\n",
    "        x (float): InAs concentration\n",
    "\n",
    "    Returns:\n",
    "        float: The height of the barrier in eV\n",
    "    \"\"\"\n",
    "    return (-0.0007938071289409138 + 0.5560814352172014 * x - 0.08851986807247743 * x ** 2) * eV\n",
    "\n",
    "\n",
    "def k(m, n):\n",
    "    \"\"\"\n",
    "    Bessel length\n",
    "\n",
    "    Args:\n",
    "        m (int): Order of the Bessel function\n",
    "        n (int): Index of the Bessel root\n",
    "    \"\"\"\n",
    "    return sc.jn_zeros(1, n + 1)[n] / rC\n",
    "\n",
    "\n"
   ]
  },
  {
   "cell_type": "code",
   "execution_count": 11,
   "metadata": {},
   "outputs": [],
   "source": [
    "def Gll1(l, l1, z0, z1):\n",
    "    \"\"\"\n",
    "    Solution of the sin integral G_{ll'}\n",
    "\n",
    "    Args:\n",
    "        l (int): Quantum number l\n",
    "        l1 (int): Quantum number l\n",
    "        z0 (float): Integral lower limit\n",
    "        z1 (float): Integral upper limit\n",
    "\n",
    "    Returns:\n",
    "        float: Solution of the integral\n",
    "    \"\"\"\n",
    "    \n",
    "    if l != l1:\n",
    "        f =  (0.5 * hC / pi) * ((np.sin((l + l1) * pi * (0.5 - z1 / hC)))/(l + l1) - (np.sin((l - l1) * pi * (0.5 - z1 / hC))) / (l - l1))\n",
    "        f -= (0.5 * hC / pi) * ((np.sin((l + l1) * pi * (0.5 - z0 / hC)))/(l + l1) - (np.sin((l - l1) * pi * (0.5 - z0 / hC))) / (l - l1))\n",
    "    else:\n",
    "        f =  (-hC / pi) * ((pi / 2) * (0.5 - z1 / hC) - np.sin(2 * l * pi * (0.5 - z1 / hC)) / (4 * l))\n",
    "        f -= (-hC / pi) * ((pi / 2) * (0.5 - z0 / hC) - np.sin(2 * l * pi * (0.5 - z0 / hC)) / (4 * l))\n",
    "        \n",
    "    return f\n",
    "\n",
    "\n",
    "def Fll1(l, l1, z0, z1):\n",
    "    \"\"\"\n",
    "    Solution of the sin integral F_{ll'}\n",
    "\n",
    "    Args:\n",
    "        l (int): Quantum number l\n",
    "        l1 (int): Quantum number l\n",
    "        z0 (float): Integral lower limit\n",
    "        z1 (float): Integral upper limit\n",
    "\n",
    "    Returns:\n",
    "        float: Solution of the integral\n",
    "    \"\"\"\n",
    "    \n",
    "    if l != l1:\n",
    "        f =  (-0.5 * hC / pi) * ((np.sin((l + l1) * pi * (0.5 - z1 / hC)))/(l + l1) + (np.sin((l - l1) * pi * (0.5 - z1 / hC))) / (l - l1))\n",
    "        f -= (-0.5 * hC / pi) * ((np.sin((l + l1) * pi * (0.5 - z0 / hC)))/(l + l1) + (np.sin((l - l1) * pi * (0.5 - z0 / hC))) / (l - l1))\n",
    "    else:\n",
    "        f =  (-hC / pi) * (0.5 * pi * (0.5 - z1 / hC) + np.sin(2 * l * pi * (0.5 - z1 / hC))/(4 * l))\n",
    "        f -= (-hC / pi) * (0.5 * pi * (0.5 - z0 / hC) + np.sin(2 * l * pi * (0.5 - z0 / hC))/(4 * l))\n",
    "        \n",
    "    return f\n",
    "\n",
    "def i1 (l, m, n, l1, m1, n1):\n",
    "    \n",
    "    \n",
    "    def fi1(r):\n",
    "        return 2.0 * pi * r * sc.jv(m, k(m, n1) * r) * sc.jv(m, k(m, n) * r)\n",
    "    \n",
    "    "
   ]
  },
  {
   "cell_type": "code",
   "execution_count": 12,
   "metadata": {},
   "outputs": [
    {
     "data": {
      "image/png": "[encoded data removed]",
      "image/svg+xml": "<?xml version=\"1.0\" encoding=\"utf-8\" standalone=\"no\"?>\n<!DOCTYPE svg PUBLIC \"-//W3C//DTD SVG 1.1//EN\"\n  \"http://www.w3.org/Graphics/SVG/1.1/DTD/svg11.dtd\">\n<svg xmlns:xlink=\"http://www.w3.org/1999/xlink\" width=\"402.802812pt\" height=\"297.190125pt\" viewBox=\"0 0 402.802812 297.190125\" xmlns=\"http://www.w3.org/2000/svg\" version=\"1.1\">\n <metadata>\n  <rdf:RDF xmlns:dc=\"http://purl.org/dc/elements/1.1/\" xmlns:cc=\"http://creativecommons.org/ns#\" xmlns:rdf=\"http://www.w3.org/1999/02/22-rdf-syntax-ns#\">\n   <cc:Work>\n    <dc:type rdf:resource=\"http://purl.org/dc/dcmitype/StillImage\"/>\n    <dc:date>2022-11-21T20:01:01.738903</dc:date>\n    <dc:format>image/svg+xml</dc:format>\n    <dc:creator>\n     <cc:Agent>\n      <dc:title>Matplotlib v3.6.2, https://matplotlib.org/</dc:title>\n     </cc:Agent>\n    </dc:creator>\n   </cc:Work>\n  </rdf:RDF>\n </metadata>\n <defs>\n  <style type=\"text/css\">*{stroke-linejoin: round; stroke-linecap: butt}</style>\n </defs>\n <g id=\"figure_1\">\n  <g id=\"patch_1\">\n   <path d=\"M 0 297.190125 \nL 402.802812 297.190125 \nL 402.802812 0 \nL 0 0 \nz\n\"/>\n  </g>\n  <g id=\"axes_1\">\n   <g id=\"patch_2\">\n    <path d=\"M 38.482813 273.312 \nL 395.602813 273.312 \nL 395.602813 7.2 \nL 38.482813 7.2 \nz\n\"/>\n   </g>\n   <g id=\"matplotlib.axis_1\">\n    <g id=\"xtick_1\">\n     <g id=\"line2d_1\">\n      <defs>\n       <path id=\"mda117db77c\" d=\"M 0 0 \nL 0 3.5 \n\" style=\"stroke: #ffffff; stroke-width: 0.8\"/>\n      </defs>\n      <g>\n       <use xlink:href=\"#mda117db77c\" x=\"54.71554\" y=\"273.312\" style=\"fill: #ffffff; stroke: #ffffff; stroke-width: 0.8\"/>\n      </g>\n     </g>\n     <g id=\"text_1\">\n      <!-- 0 -->\n      <g style=\"fill: #ffffff\" transform=\"translate(51.53429 287.910437) scale(0.1 -0.1)\">\n       <defs>\n        <path id=\"DejaVuSans-30\" d=\"M 2034 4250 \nQ 1547 4250 1301 3770 \nQ 1056 3291 1056 2328 \nQ 1056 1369 1301 889 \nQ 1547 409 2034 409 \nQ 2525 409 2770 889 \nQ 3016 1369 3016 2328 \nQ 3016 3291 2770 3770 \nQ 2525 4250 2034 4250 \nz\nM 2034 4750 \nQ 2819 4750 3233 4129 \nQ 3647 3509 3647 2328 \nQ 3647 1150 3233 529 \nQ 2819 -91 2034 -91 \nQ 1250 -91 836 529 \nQ 422 1150 422 2328 \nQ 422 3509 836 4129 \nQ 1250 4750 2034 4750 \nz\n\" transform=\"scale(0.015625)\"/>\n       </defs>\n       <use xlink:href=\"#DejaVuSans-30\"/>\n      </g>\n     </g>\n    </g>\n    <g id=\"xtick_2\">\n     <g id=\"line2d_2\">\n      <g>\n       <use xlink:href=\"#mda117db77c\" x=\"119.646449\" y=\"273.312\" style=\"fill: #ffffff; stroke: #ffffff; stroke-width: 0.8\"/>\n      </g>\n     </g>\n     <g id=\"text_2\">\n      <!-- 2 -->\n      <g style=\"fill: #ffffff\" transform=\"translate(116.465199 287.910437) scale(0.1 -0.1)\">\n       <defs>\n        <path id=\"DejaVuSans-32\" d=\"M 1228 531 \nL 3431 531 \nL 3431 0 \nL 469 0 \nL 469 531 \nQ 828 903 1448 1529 \nQ 2069 2156 2228 2338 \nQ 2531 2678 2651 2914 \nQ 2772 3150 2772 3378 \nQ 2772 3750 2511 3984 \nQ 2250 4219 1831 4219 \nQ 1534 4219 1204 4116 \nQ 875 4013 500 3803 \nL 500 4441 \nQ 881 4594 1212 4672 \nQ 1544 4750 1819 4750 \nQ 2544 4750 2975 4387 \nQ 3406 4025 3406 3419 \nQ 3406 3131 3298 2873 \nQ 3191 2616 2906 2266 \nQ 2828 2175 2409 1742 \nQ 1991 1309 1228 531 \nz\n\" transform=\"scale(0.015625)\"/>\n       </defs>\n       <use xlink:href=\"#DejaVuSans-32\"/>\n      </g>\n     </g>\n    </g>\n    <g id=\"xtick_3\">\n     <g id=\"line2d_3\">\n      <g>\n       <use xlink:href=\"#mda117db77c\" x=\"184.577358\" y=\"273.312\" style=\"fill: #ffffff; stroke: #ffffff; stroke-width: 0.8\"/>\n      </g>\n     </g>\n     <g id=\"text_3\">\n      <!-- 4 -->\n      <g style=\"fill: #ffffff\" transform=\"translate(181.396108 287.910437) scale(0.1 -0.1)\">\n       <defs>\n        <path id=\"DejaVuSans-34\" d=\"M 2419 4116 \nL 825 1625 \nL 2419 1625 \nL 2419 4116 \nz\nM 2253 4666 \nL 3047 4666 \nL 3047 1625 \nL 3713 1625 \nL 3713 1100 \nL 3047 1100 \nL 3047 0 \nL 2419 0 \nL 2419 1100 \nL 313 1100 \nL 313 1709 \nL 2253 4666 \nz\n\" transform=\"scale(0.015625)\"/>\n       </defs>\n       <use xlink:href=\"#DejaVuSans-34\"/>\n      </g>\n     </g>\n    </g>\n    <g id=\"xtick_4\">\n     <g id=\"line2d_4\">\n      <g>\n       <use xlink:href=\"#mda117db77c\" x=\"249.508267\" y=\"273.312\" style=\"fill: #ffffff; stroke: #ffffff; stroke-width: 0.8\"/>\n      </g>\n     </g>\n     <g id=\"text_4\">\n      <!-- 6 -->\n      <g style=\"fill: #ffffff\" transform=\"translate(246.327017 287.910437) scale(0.1 -0.1)\">\n       <defs>\n        <path id=\"DejaVuSans-36\" d=\"M 2113 2584 \nQ 1688 2584 1439 2293 \nQ 1191 2003 1191 1497 \nQ 1191 994 1439 701 \nQ 1688 409 2113 409 \nQ 2538 409 2786 701 \nQ 3034 994 3034 1497 \nQ 3034 2003 2786 2293 \nQ 2538 2584 2113 2584 \nz\nM 3366 4563 \nL 3366 3988 \nQ 3128 4100 2886 4159 \nQ 2644 4219 2406 4219 \nQ 1781 4219 1451 3797 \nQ 1122 3375 1075 2522 \nQ 1259 2794 1537 2939 \nQ 1816 3084 2150 3084 \nQ 2853 3084 3261 2657 \nQ 3669 2231 3669 1497 \nQ 3669 778 3244 343 \nQ 2819 -91 2113 -91 \nQ 1303 -91 875 529 \nQ 447 1150 447 2328 \nQ 447 3434 972 4092 \nQ 1497 4750 2381 4750 \nQ 2619 4750 2861 4703 \nQ 3103 4656 3366 4563 \nz\n\" transform=\"scale(0.015625)\"/>\n       </defs>\n       <use xlink:href=\"#DejaVuSans-36\"/>\n      </g>\n     </g>\n    </g>\n    <g id=\"xtick_5\">\n     <g id=\"line2d_5\">\n      <g>\n       <use xlink:href=\"#mda117db77c\" x=\"314.439176\" y=\"273.312\" style=\"fill: #ffffff; stroke: #ffffff; stroke-width: 0.8\"/>\n      </g>\n     </g>\n     <g id=\"text_5\">\n      <!-- 8 -->\n      <g style=\"fill: #ffffff\" transform=\"translate(311.257926 287.910437) scale(0.1 -0.1)\">\n       <defs>\n        <path id=\"DejaVuSans-38\" d=\"M 2034 2216 \nQ 1584 2216 1326 1975 \nQ 1069 1734 1069 1313 \nQ 1069 891 1326 650 \nQ 1584 409 2034 409 \nQ 2484 409 2743 651 \nQ 3003 894 3003 1313 \nQ 3003 1734 2745 1975 \nQ 2488 2216 2034 2216 \nz\nM 1403 2484 \nQ 997 2584 770 2862 \nQ 544 3141 544 3541 \nQ 544 4100 942 4425 \nQ 1341 4750 2034 4750 \nQ 2731 4750 3128 4425 \nQ 3525 4100 3525 3541 \nQ 3525 3141 3298 2862 \nQ 3072 2584 2669 2484 \nQ 3125 2378 3379 2068 \nQ 3634 1759 3634 1313 \nQ 3634 634 3220 271 \nQ 2806 -91 2034 -91 \nQ 1263 -91 848 271 \nQ 434 634 434 1313 \nQ 434 1759 690 2068 \nQ 947 2378 1403 2484 \nz\nM 1172 3481 \nQ 1172 3119 1398 2916 \nQ 1625 2713 2034 2713 \nQ 2441 2713 2670 2916 \nQ 2900 3119 2900 3481 \nQ 2900 3844 2670 4047 \nQ 2441 4250 2034 4250 \nQ 1625 4250 1398 4047 \nQ 1172 3844 1172 3481 \nz\n\" transform=\"scale(0.015625)\"/>\n       </defs>\n       <use xlink:href=\"#DejaVuSans-38\"/>\n      </g>\n     </g>\n    </g>\n    <g id=\"xtick_6\">\n     <g id=\"line2d_6\">\n      <g>\n       <use xlink:href=\"#mda117db77c\" x=\"379.370085\" y=\"273.312\" style=\"fill: #ffffff; stroke: #ffffff; stroke-width: 0.8\"/>\n      </g>\n     </g>\n     <g id=\"text_6\">\n      <!-- 10 -->\n      <g style=\"fill: #ffffff\" transform=\"translate(373.007585 287.910437) scale(0.1 -0.1)\">\n       <defs>\n        <path id=\"DejaVuSans-31\" d=\"M 794 531 \nL 1825 531 \nL 1825 4091 \nL 703 3866 \nL 703 4441 \nL 1819 4666 \nL 2450 4666 \nL 2450 531 \nL 3481 531 \nL 3481 0 \nL 794 0 \nL 794 531 \nz\n\" transform=\"scale(0.015625)\"/>\n       </defs>\n       <use xlink:href=\"#DejaVuSans-31\"/>\n       <use xlink:href=\"#DejaVuSans-30\" x=\"63.623047\"/>\n      </g>\n     </g>\n    </g>\n   </g>\n   <g id=\"matplotlib.axis_2\">\n    <g id=\"ytick_1\">\n     <g id=\"line2d_7\">\n      <defs>\n       <path id=\"m0982dd998d\" d=\"M 0 0 \nL -3.5 0 \n\" style=\"stroke: #ffffff; stroke-width: 0.8\"/>\n      </defs>\n      <g>\n       <use xlink:href=\"#m0982dd998d\" x=\"38.482813\" y=\"260.741659\" style=\"fill: #ffffff; stroke: #ffffff; stroke-width: 0.8\"/>\n      </g>\n     </g>\n     <g id=\"text_7\">\n      <!-- −0.4 -->\n      <g style=\"fill: #ffffff\" transform=\"translate(7.2 264.540878) scale(0.1 -0.1)\">\n       <defs>\n        <path id=\"DejaVuSans-2212\" d=\"M 678 2272 \nL 4684 2272 \nL 4684 1741 \nL 678 1741 \nL 678 2272 \nz\n\" transform=\"scale(0.015625)\"/>\n        <path id=\"DejaVuSans-2e\" d=\"M 684 794 \nL 1344 794 \nL 1344 0 \nL 684 0 \nL 684 794 \nz\n\" transform=\"scale(0.015625)\"/>\n       </defs>\n       <use xlink:href=\"#DejaVuSans-2212\"/>\n       <use xlink:href=\"#DejaVuSans-30\" x=\"83.789062\"/>\n       <use xlink:href=\"#DejaVuSans-2e\" x=\"147.412109\"/>\n       <use xlink:href=\"#DejaVuSans-34\" x=\"179.199219\"/>\n      </g>\n     </g>\n    </g>\n    <g id=\"ytick_2\">\n     <g id=\"line2d_8\">\n      <g>\n       <use xlink:href=\"#m0982dd998d\" x=\"38.482813\" y=\"226.249422\" style=\"fill: #ffffff; stroke: #ffffff; stroke-width: 0.8\"/>\n      </g>\n     </g>\n     <g id=\"text_8\">\n      <!-- −0.2 -->\n      <g style=\"fill: #ffffff\" transform=\"translate(7.2 230.048641) scale(0.1 -0.1)\">\n       <use xlink:href=\"#DejaVuSans-2212\"/>\n       <use xlink:href=\"#DejaVuSans-30\" x=\"83.789062\"/>\n       <use xlink:href=\"#DejaVuSans-2e\" x=\"147.412109\"/>\n       <use xlink:href=\"#DejaVuSans-32\" x=\"179.199219\"/>\n      </g>\n     </g>\n    </g>\n    <g id=\"ytick_3\">\n     <g id=\"line2d_9\">\n      <g>\n       <use xlink:href=\"#m0982dd998d\" x=\"38.482813\" y=\"191.757185\" style=\"fill: #ffffff; stroke: #ffffff; stroke-width: 0.8\"/>\n      </g>\n     </g>\n     <g id=\"text_9\">\n      <!-- 0.0 -->\n      <g style=\"fill: #ffffff\" transform=\"translate(15.579688 195.556404) scale(0.1 -0.1)\">\n       <use xlink:href=\"#DejaVuSans-30\"/>\n       <use xlink:href=\"#DejaVuSans-2e\" x=\"63.623047\"/>\n       <use xlink:href=\"#DejaVuSans-30\" x=\"95.410156\"/>\n      </g>\n     </g>\n    </g>\n    <g id=\"ytick_4\">\n     <g id=\"line2d_10\">\n      <g>\n       <use xlink:href=\"#m0982dd998d\" x=\"38.482813\" y=\"157.264948\" style=\"fill: #ffffff; stroke: #ffffff; stroke-width: 0.8\"/>\n      </g>\n     </g>\n     <g id=\"text_10\">\n      <!-- 0.2 -->\n      <g style=\"fill: #ffffff\" transform=\"translate(15.579688 161.064167) scale(0.1 -0.1)\">\n       <use xlink:href=\"#DejaVuSans-30\"/>\n       <use xlink:href=\"#DejaVuSans-2e\" x=\"63.623047\"/>\n       <use xlink:href=\"#DejaVuSans-32\" x=\"95.410156\"/>\n      </g>\n     </g>\n    </g>\n    <g id=\"ytick_5\">\n     <g id=\"line2d_11\">\n      <g>\n       <use xlink:href=\"#m0982dd998d\" x=\"38.482813\" y=\"122.772711\" style=\"fill: #ffffff; stroke: #ffffff; stroke-width: 0.8\"/>\n      </g>\n     </g>\n     <g id=\"text_11\">\n      <!-- 0.4 -->\n      <g style=\"fill: #ffffff\" transform=\"translate(15.579688 126.57193) scale(0.1 -0.1)\">\n       <use xlink:href=\"#DejaVuSans-30\"/>\n       <use xlink:href=\"#DejaVuSans-2e\" x=\"63.623047\"/>\n       <use xlink:href=\"#DejaVuSans-34\" x=\"95.410156\"/>\n      </g>\n     </g>\n    </g>\n    <g id=\"ytick_6\">\n     <g id=\"line2d_12\">\n      <g>\n       <use xlink:href=\"#m0982dd998d\" x=\"38.482813\" y=\"88.280474\" style=\"fill: #ffffff; stroke: #ffffff; stroke-width: 0.8\"/>\n      </g>\n     </g>\n     <g id=\"text_12\">\n      <!-- 0.6 -->\n      <g style=\"fill: #ffffff\" transform=\"translate(15.579688 92.079693) scale(0.1 -0.1)\">\n       <use xlink:href=\"#DejaVuSans-30\"/>\n       <use xlink:href=\"#DejaVuSans-2e\" x=\"63.623047\"/>\n       <use xlink:href=\"#DejaVuSans-36\" x=\"95.410156\"/>\n      </g>\n     </g>\n    </g>\n    <g id=\"ytick_7\">\n     <g id=\"line2d_13\">\n      <g>\n       <use xlink:href=\"#m0982dd998d\" x=\"38.482813\" y=\"53.788237\" style=\"fill: #ffffff; stroke: #ffffff; stroke-width: 0.8\"/>\n      </g>\n     </g>\n     <g id=\"text_13\">\n      <!-- 0.8 -->\n      <g style=\"fill: #ffffff\" transform=\"translate(15.579688 57.587456) scale(0.1 -0.1)\">\n       <use xlink:href=\"#DejaVuSans-30\"/>\n       <use xlink:href=\"#DejaVuSans-2e\" x=\"63.623047\"/>\n       <use xlink:href=\"#DejaVuSans-38\" x=\"95.410156\"/>\n      </g>\n     </g>\n    </g>\n    <g id=\"ytick_8\">\n     <g id=\"line2d_14\">\n      <g>\n       <use xlink:href=\"#m0982dd998d\" x=\"38.482813\" y=\"19.296\" style=\"fill: #ffffff; stroke: #ffffff; stroke-width: 0.8\"/>\n      </g>\n     </g>\n     <g id=\"text_14\">\n      <!-- 1.0 -->\n      <g style=\"fill: #ffffff\" transform=\"translate(15.579688 23.095219) scale(0.1 -0.1)\">\n       <use xlink:href=\"#DejaVuSans-31\"/>\n       <use xlink:href=\"#DejaVuSans-2e\" x=\"63.623047\"/>\n       <use xlink:href=\"#DejaVuSans-30\" x=\"95.410156\"/>\n      </g>\n     </g>\n    </g>\n   </g>\n   <g id=\"line2d_15\">\n    <path d=\"M 54.71554 19.296 \nL 57.994879 19.735627 \nL 61.274217 21.051145 \nL 64.553556 23.232499 \nL 67.832895 26.263024 \nL 71.112234 30.119587 \nL 74.391573 34.772785 \nL 77.670912 40.187191 \nL 80.950251 46.321658 \nL 84.229589 53.129667 \nL 87.508928 60.559719 \nL 90.788267 68.555769 \nL 94.067606 77.057703 \nL 97.346945 86.001841 \nL 100.626284 95.321473 \nL 103.905622 104.947422 \nL 107.184961 114.808616 \nL 110.4643 124.832688 \nL 113.743639 134.946575 \nL 117.022978 145.077125 \nL 120.302317 155.151699 \nL 123.581655 165.09877 \nL 126.860994 174.84851 \nL 130.140333 184.333352 \nL 133.419672 193.488542 \nL 136.699011 202.252652 \nL 139.97835 210.568072 \nL 143.257689 218.381457 \nL 146.537027 225.644143 \nL 149.816366 232.312514 \nL 153.095705 238.348328 \nL 156.375044 243.718987 \nL 159.654383 248.397766 \nL 162.933722 252.363984 \nL 166.21306 255.603117 \nL 169.492399 258.106868 \nL 172.771738 259.873171 \nL 176.051077 260.906146 \nL 179.330416 261.216 \nL 182.609755 260.818872 \nL 185.889093 259.736634 \nL 189.168432 257.996634 \nL 192.447771 255.6314 \nL 195.72711 252.678298 \nL 199.006449 249.179148 \nL 202.285788 245.179809 \nL 205.565127 240.729729 \nL 208.844465 235.881462 \nL 212.123804 230.69017 \nL 215.403143 225.213104 \nL 218.682482 219.509064 \nL 221.961821 213.637863 \nL 225.24116 207.659772 \nL 228.520498 201.634978 \nL 231.799837 195.623044 \nL 235.079176 189.682378 \nL 238.358515 183.869718 \nL 241.637854 178.23964 \nL 244.917193 172.84409 \nL 248.196532 167.73194 \nL 251.47587 162.948582 \nL 254.755209 158.535557 \nL 258.034548 154.530218 \nL 261.313887 150.965446 \nL 264.593226 147.869394 \nL 267.872565 145.265293 \nL 271.151903 143.171298 \nL 274.431242 141.600381 \nL 277.710581 140.560275 \nL 280.98992 140.053475 \nL 284.269259 140.07727 \nL 287.548598 140.623844 \nL 290.827936 141.680409 \nL 294.107275 143.229388 \nL 297.386614 145.248644 \nL 300.665953 147.711746 \nL 303.945292 150.588272 \nL 307.224631 153.844148 \nL 310.50397 157.442024 \nL 313.783308 161.341663 \nL 317.062647 165.50037 \nL 320.341986 169.873427 \nL 323.621325 174.414551 \nL 326.900664 179.076357 \nL 330.180003 183.810832 \nL 333.459341 188.569807 \nL 336.73868 193.305423 \nL 340.018019 197.970599 \nL 343.297358 202.519477 \nL 346.576697 206.907858 \nL 349.856036 211.093615 \nL 353.135374 215.037085 \nL 356.414713 218.701426 \nL 359.694052 222.052955 \nL 362.973391 225.06144 \nL 366.25273 227.700365 \nL 369.532069 229.947155 \nL 372.811408 231.783353 \nL 376.090746 233.194765 \nL 379.370085 234.171559 \n\" clip-path=\"url(#p8e565afd2a)\" style=\"fill: none; stroke: #8dd3c7; stroke-width: 1.5; stroke-linecap: square\"/>\n   </g>\n   <g id=\"line2d_16\">\n    <path d=\"M 54.71554 191.757185 \nL 57.994879 183.058128 \nL 61.274217 174.425583 \nL 64.553556 165.925494 \nL 67.832895 157.622683 \nL 71.112234 149.580296 \nL 74.391573 141.85927 \nL 77.670912 134.517814 \nL 80.950251 127.610923 \nL 84.229589 121.189913 \nL 87.508928 115.30199 \nL 90.788267 109.989861 \nL 94.067606 105.291377 \nL 97.346945 101.239224 \nL 100.626284 97.860659 \nL 103.905622 95.177296 \nL 107.184961 93.204937 \nL 110.4643 91.953458 \nL 113.743639 91.426747 \nL 117.022978 91.622693 \nL 120.302317 92.533231 \nL 123.581655 94.144435 \nL 126.860994 96.436664 \nL 130.140333 99.38476 \nL 133.419672 102.958288 \nL 136.699011 107.121831 \nL 139.97835 111.835316 \nL 143.257689 117.054388 \nL 146.537027 122.730818 \nL 149.816366 128.812946 \nL 153.095705 135.246141 \nL 156.375044 141.973305 \nL 159.654383 148.935377 \nL 162.933722 156.071859 \nL 166.21306 163.321362 \nL 169.492399 170.622136 \nL 172.771738 177.91262 \nL 176.051077 185.131978 \nL 179.330416 192.220625 \nL 182.609755 199.120742 \nL 185.889093 205.776768 \nL 189.168432 212.135876 \nL 192.447771 218.148413 \nL 195.72711 223.768315 \nL 199.006449 228.953482 \nL 202.285788 233.666121 \nL 205.565127 237.873043 \nL 208.844465 241.545916 \nL 212.123804 244.661477 \nL 215.403143 247.201694 \nL 218.682482 249.153876 \nL 221.961821 250.510744 \nL 225.24116 251.270436 \nL 228.520498 251.436483 \nL 231.799837 251.017718 \nL 235.079176 250.028145 \nL 238.358515 248.486766 \nL 241.637854 246.417356 \nL 244.917193 243.848199 \nL 248.196532 240.811786 \nL 251.47587 237.344474 \nL 254.755209 233.486117 \nL 258.034548 229.279661 \nL 261.313887 224.77072 \nL 264.593226 220.007125 \nL 267.872565 215.038463 \nL 271.151903 209.915595 \nL 274.431242 204.690178 \nL 277.710581 199.414169 \nL 280.98992 194.139342 \nL 284.269259 188.916805 \nL 287.548598 183.79653 \nL 290.827936 178.826897 \nL 294.107275 174.054253 \nL 297.386614 169.5225 \nL 300.665953 165.272705 \nL 303.945292 161.342743 \nL 307.224631 157.766968 \nL 310.50397 154.575927 \nL 313.783308 151.796108 \nL 317.062647 149.449726 \nL 320.341986 147.554559 \nL 323.621325 146.123822 \nL 326.900664 145.166083 \nL 330.180003 144.685231 \nL 333.459341 144.680484 \nL 336.73868 145.146442 \nL 340.018019 146.073182 \nL 343.297358 147.446403 \nL 346.576697 149.247598 \nL 349.856036 151.454281 \nL 353.135374 154.040236 \nL 356.414713 156.975808 \nL 359.694052 160.228223 \nL 362.973391 163.761932 \nL 366.25273 167.538986 \nL 369.532069 171.519422 \nL 372.811408 175.66167 \nL 376.090746 179.922975 \nL 379.370085 184.259824 \n\" clip-path=\"url(#p8e565afd2a)\" style=\"fill: none; stroke: #feffb3; stroke-width: 1.5; stroke-linecap: square\"/>\n   </g>\n   <g id=\"line2d_17\">\n    <path d=\"M 54.71554 191.757185 \nL 57.994879 191.537419 \nL 61.274217 190.880359 \nL 64.553556 189.792708 \nL 67.832895 188.285561 \nL 71.112234 186.374304 \nL 74.391573 184.078465 \nL 77.670912 181.42153 \nL 80.950251 178.430714 \nL 84.229589 175.136704 \nL 87.508928 171.573366 \nL 90.788267 167.777419 \nL 94.067606 163.788084 \nL 97.346945 159.646711 \nL 100.626284 155.396381 \nL 103.905622 151.081495 \nL 107.184961 146.747348 \nL 110.4643 142.439694 \nL 113.743639 138.204313 \nL 117.022978 134.086564 \nL 120.302317 130.130957 \nL 123.581655 126.380721 \nL 126.860994 122.877391 \nL 130.140333 119.660408 \nL 133.419672 116.766739 \nL 136.699011 114.230518 \nL 139.97835 112.082721 \nL 143.257689 110.350862 \nL 146.537027 109.058725 \nL 149.816366 108.226134 \nL 153.095705 107.868754 \nL 156.375044 107.997938 \nL 159.654383 108.62061 \nL 162.933722 109.739191 \nL 166.21306 111.351568 \nL 169.492399 113.451102 \nL 172.771738 116.026688 \nL 176.051077 119.062843 \nL 179.330416 122.539847 \nL 182.609755 126.433919 \nL 185.889093 130.717429 \nL 189.168432 135.359152 \nL 192.447771 140.324549 \nL 195.72711 145.576081 \nL 199.006449 151.073556 \nL 202.285788 156.774493 \nL 205.565127 162.634511 \nL 208.844465 168.607736 \nL 212.123804 174.647221 \nL 215.403143 180.705374 \nL 218.682482 186.734395 \nL 221.961821 192.686712 \nL 225.24116 198.515413 \nL 228.520498 204.174677 \nL 231.799837 209.620188 \nL 235.079176 214.809538 \nL 238.358515 219.702612 \nL 241.637854 224.261947 \nL 244.917193 228.453074 \nL 248.196532 232.244822 \nL 251.47587 235.609593 \nL 254.755209 238.523614 \nL 258.034548 240.967136 \nL 261.313887 242.924607 \nL 264.593226 244.384802 \nL 267.872565 245.340912 \nL 271.151903 245.790595 \nL 274.431242 245.735979 \nL 277.710581 245.183628 \nL 280.98992 244.144471 \nL 284.269259 242.633679 \nL 287.548598 240.670513 \nL 290.827936 238.278133 \nL 294.107275 235.483365 \nL 297.386614 232.316445 \nL 300.665953 228.810721 \nL 303.945292 225.002336 \nL 307.224631 220.92988 \nL 310.50397 216.634027 \nL 313.783308 212.157146 \nL 317.062647 207.542904 \nL 320.341986 202.835857 \nL 323.621325 198.081032 \nL 326.900664 193.323509 \nL 330.180003 188.608006 \nL 333.459341 183.978461 \nL 336.73868 179.477636 \nL 340.018019 175.146722 \nL 343.297358 171.024967 \nL 346.576697 167.149323 \nL 349.856036 163.554116 \nL 353.135374 160.27074 \nL 356.414713 157.327387 \nL 359.694052 154.748798 \nL 362.973391 152.556058 \nL 366.25273 150.766422 \nL 369.532069 149.393176 \nL 372.811408 148.445541 \nL 376.090746 147.928612 \nL 379.370085 147.843339 \n\" clip-path=\"url(#p8e565afd2a)\" style=\"fill: none; stroke: #bfbbd9; stroke-width: 1.5; stroke-linecap: square\"/>\n   </g>\n   <g id=\"line2d_18\">\n    <path d=\"M 54.71554 191.757185 \nL 57.994879 191.753485 \nL 61.274217 191.727637 \nL 64.553556 191.657779 \nL 67.832895 191.522606 \nL 71.112234 191.301652 \nL 74.391573 190.975548 \nL 77.670912 190.526277 \nL 80.950251 189.937413 \nL 84.229589 189.19434 \nL 87.508928 188.284456 \nL 90.788267 187.19735 \nL 94.067606 185.92496 \nL 97.346945 184.461703 \nL 100.626284 182.80458 \nL 103.905622 180.953252 \nL 107.184961 178.910085 \nL 110.4643 176.680169 \nL 113.743639 174.271304 \nL 117.022978 171.693962 \nL 120.302317 168.961208 \nL 123.581655 166.088603 \nL 126.860994 163.094078 \nL 130.140333 159.997769 \nL 133.419672 156.821845 \nL 136.699011 153.590298 \nL 139.97835 150.328717 \nL 143.257689 147.064042 \nL 146.537027 143.824301 \nL 149.816366 140.638334 \nL 153.095705 137.535499 \nL 156.375044 134.545381 \nL 159.654383 131.697482 \nL 162.933722 129.020918 \nL 166.21306 126.544113 \nL 169.492399 124.294495 \nL 172.771738 122.298204 \nL 176.051077 120.579799 \nL 179.330416 119.161993 \nL 182.609755 118.065389 \nL 185.889093 117.308244 \nL 189.168432 116.906248 \nL 192.447771 116.872329 \nL 195.72711 117.216481 \nL 199.006449 117.945622 \nL 202.285788 119.06348 \nL 205.565127 120.570503 \nL 208.844465 122.463812 \nL 212.123804 124.737172 \nL 215.403143 127.381009 \nL 218.682482 130.382445 \nL 221.961821 133.725377 \nL 225.24116 137.390585 \nL 228.520498 141.355862 \nL 231.799837 145.596188 \nL 235.079176 150.083919 \nL 238.358515 154.789013 \nL 241.637854 159.67927 \nL 244.917193 164.720606 \nL 248.196532 169.877337 \nL 251.47587 175.112486 \nL 254.755209 180.388099 \nL 258.034548 185.665581 \nL 261.313887 190.90603 \nL 264.593226 196.070583 \nL 267.872565 201.120763 \nL 271.151903 206.018821 \nL 274.431242 210.728076 \nL 277.710581 215.213247 \nL 280.98992 219.440775 \nL 284.269259 223.379125 \nL 287.548598 226.999076 \nL 290.827936 230.273994 \nL 294.107275 233.180073 \nL 297.386614 235.696555 \nL 300.665953 237.805932 \nL 303.945292 239.494101 \nL 307.224631 240.750503 \nL 310.50397 241.568224 \nL 313.783308 241.944066 \nL 317.062647 241.878575 \nL 320.341986 241.376051 \nL 323.621325 240.444504 \nL 326.900664 239.095594 \nL 330.180003 237.344526 \nL 333.459341 235.209916 \nL 336.73868 232.713625 \nL 340.018019 229.880563 \nL 343.297358 226.73847 \nL 346.576697 223.317656 \nL 349.856036 219.650739 \nL 353.135374 215.772341 \nL 356.414713 211.71878 \nL 359.694052 207.527738 \nL 362.973391 203.237921 \nL 366.25273 198.888708 \nL 369.532069 194.519795 \nL 372.811408 190.170834 \nL 376.090746 185.881073 \nL 379.370085 181.689008 \n\" clip-path=\"url(#p8e565afd2a)\" style=\"fill: none; stroke: #fa8174; stroke-width: 1.5; stroke-linecap: square\"/>\n   </g>\n   <g id=\"patch_3\">\n    <path d=\"M 38.482813 273.312 \nL 38.482813 7.2 \n\" style=\"fill: none; stroke: #ffffff; stroke-width: 0.8; stroke-linejoin: miter; stroke-linecap: square\"/>\n   </g>\n   <g id=\"patch_4\">\n    <path d=\"M 395.602813 273.312 \nL 395.602813 7.2 \n\" style=\"fill: none; stroke: #ffffff; stroke-width: 0.8; stroke-linejoin: miter; stroke-linecap: square\"/>\n   </g>\n   <g id=\"patch_5\">\n    <path d=\"M 38.482813 273.312 \nL 395.602813 273.312 \n\" style=\"fill: none; stroke: #ffffff; stroke-width: 0.8; stroke-linejoin: miter; stroke-linecap: square\"/>\n   </g>\n   <g id=\"patch_6\">\n    <path d=\"M 38.482813 7.2 \nL 395.602813 7.2 \n\" style=\"fill: none; stroke: #ffffff; stroke-width: 0.8; stroke-linejoin: miter; stroke-linecap: square\"/>\n   </g>\n  </g>\n </g>\n <defs>\n  <clipPath id=\"p8e565afd2a\">\n   <rect x=\"38.482813\" y=\"7.2\" width=\"357.12\" height=\"266.112\"/>\n  </clipPath>\n </defs>\n</svg>\n",
      "text/plain": [
       "<Figure size 640x480 with 1 Axes>"
      ]
     },
     "metadata": {},
     "output_type": "display_data"
    }
   ],
   "source": [
    "xr = np.linspace(0, 10, 100) \n",
    "\n",
    "for m in range(4):\n",
    "    y = [sc.jv(m, x) for x in xr]\n",
    "    plt.plot(xr, y)\n",
    "plt.show()\n"
   ]
  },
  {
   "cell_type": "markdown",
   "metadata": {},
   "source": [
    "### Eigen function normalization"
   ]
  },
  {
   "cell_type": "code",
   "execution_count": 13,
   "metadata": {},
   "outputs": [],
   "source": [
    "def beta(m, n):\n",
    "    \"\"\"\n",
    "    Normalization constant for each eigenfunction\n",
    "\n",
    "    Args:\n",
    "        m (int): Quantum number m\n",
    "        n (int): Quantum number n\n",
    "\n",
    "    Returns:\n",
    "        The normalization constant for an eigenfunction\n",
    "    \"\"\"\n",
    "    \n",
    "    \n",
    "    return np.sqrt(2 / (rC ** 2 * sc.jv(m + 1, k(m, n) * rC) * sc.jv(m + 1, k(m, n) * rC) * hC * pi))"
   ]
  },
  {
   "cell_type": "code",
   "execution_count": 34,
   "metadata": {},
   "outputs": [
    {
     "data": {
      "text/plain": [
       "-1"
      ]
     },
     "execution_count": 34,
     "metadata": {},
     "output_type": "execute_result"
    }
   ],
   "source": [
    "n1"
   ]
  },
  {
   "cell_type": "markdown",
   "metadata": {},
   "source": [
    "### Matriz expansion constants"
   ]
  },
  {
   "cell_type": "code",
   "execution_count": 41,
   "metadata": {},
   "outputs": [],
   "source": [
    "def P(l, m, n, l1, m1, n1):\n",
    "    \"\"\"\n",
    "    Matriz element constant P\n",
    "\n",
    "    Args:\n",
    "        l (int): Quantum number l\n",
    "        m (int): Quantum number m\n",
    "        n (int): Quantum number n\n",
    "        l1 (int): Quantum number l\n",
    "        m1 (int): Quantum number m\n",
    "        n1 (int): Quantum number n\n",
    "\n",
    "    Returns:\n",
    "        float: the value of the constant\n",
    "    \"\"\"\n",
    "    return beta(m, n1) * beta(m, n) * KroneckerDelta(m, m1) * (l * pi / hC) * ( (l1 * pi / hC))\n",
    "\n",
    "\n",
    "def Q(l, m, n, l1, m1, n1):\n",
    "    \"\"\"\n",
    "    Matriz element constant P\n",
    "\n",
    "    Args:\n",
    "        l (int): Quantum number l\n",
    "        m (int): Quantum number m\n",
    "        n (int): Quantum number n\n",
    "        l1 (int): Quantum number l\n",
    "        m1 (int): Quantum number m\n",
    "        n1 (int): Quantum number n\n",
    "\n",
    "    Returns:\n",
    "        float: the value of the constant\n",
    "    \"\"\"\n",
    "    return beta(m, n1) * beta(m, n) * KroneckerDelta(m, m1) * k(m, n1) * k(m, n) / 2"
   ]
  },
  {
   "cell_type": "markdown",
   "metadata": {},
   "source": [
    "### Free particle integral"
   ]
  },
  {
   "cell_type": "code",
   "execution_count": 15,
   "metadata": {},
   "outputs": [],
   "source": [
    "def f(l, m, n, l1, m1, n1):\n",
    "    \"\"\"\n",
    "    Returns the solution of the free particle integral\n",
    "    inside a cylinder\n",
    "\n",
    "    Args:\n",
    "        l (int): Quantum number l\n",
    "        m (int): Quantum number m\n",
    "        n (int): Quantum number n\n",
    "        l1 (int): Quantum number l\n",
    "        m1 (int): Quantum number m\n",
    "        n1 (int): Quantum number n\n",
    "    \"\"\"\n",
    "    \n",
    "    return (((hBar ** 2) / (2 * Mass1(0.0))) * ((l * pi / hC) ** 2 + k(m,n) ** 2)) * KroneckerDelta(m, m1) * KroneckerDelta(n, n1)"
   ]
  },
  {
   "cell_type": "markdown",
   "metadata": {},
   "source": [
    "### Wetting layer integrals equations"
   ]
  },
  {
   "cell_type": "markdown",
   "metadata": {},
   "source": [
    "$F_{l^\\prime l}^{WL}$"
   ]
  },
  {
   "cell_type": "code",
   "execution_count": 16,
   "metadata": {},
   "outputs": [],
   "source": [
    "def FllWL(i, l, l1):\n",
    "    \"\"\"_summary_\n",
    "\n",
    "    Args:\n",
    "        i (_type_): _description_\n",
    "        l (_type_): _description_\n",
    "        l1 (_type_): _description_\n",
    "\n",
    "    Returns:\n",
    "        _type_: _description_\n",
    "    \"\"\"\n",
    "    if l1 != l:\n",
    "        f =  (hC / 2) * np.sin(pi * (l1 + l) * (1/2 - (h0 - hWL + (i - 1) * DeltaL_WL(x1)) / hC)) / ((l1 + l) * pi)\n",
    "        f += (hC / 2) * np.sin(pi * (l1 - l) * (1/2 - (h0 - hWL + (i - 1) * DeltaL_WL(x1)) / hC)) / ((l1 - l) * pi)\n",
    "        f -= (hC / 2) * np.sin(pi * (l1 - l) * (1/2 - (h0 - hWL +  i      * DeltaL_WL(x1)) / hC)) / ((l1 - l) * pi)\n",
    "        f -= (hC / 2) * np.sin(pi * (l1 + l) * (1/2 - (h0 - hWL +  i      * DeltaL_WL(x1)) / hC)) / ((l1 + l) * pi)\n",
    "    else:\n",
    "        f =  (hC / (4 * l * pi)) * np.sin(pi * l * ((hC - 2 * (h0 - hWL + (i - 1) * DeltaL_WL(x1)))/ hC))\n",
    "        f -= (hC / (4 * l * pi)) * np.sin(pi * l * ((hC - 2 * (h0 - hWL +  i      * DeltaL_WL(x1)))/ hC))\n",
    "        f += DeltaL_WL(x1) / 2\n",
    "        \n",
    "    return f"
   ]
  },
  {
   "cell_type": "markdown",
   "metadata": {},
   "source": [
    "$G_{l^\\prime l}^{WL}$"
   ]
  },
  {
   "cell_type": "code",
   "execution_count": 17,
   "metadata": {},
   "outputs": [],
   "source": [
    "def GllWL(i, l, l1):\n",
    "    \"\"\"_summary_\n",
    "\n",
    "    Args:\n",
    "        i (_type_): _description_\n",
    "        l (_type_): _description_\n",
    "        l1 (_type_): _description_\n",
    "\n",
    "    Returns:\n",
    "        _type_: _description_\n",
    "    \"\"\"\n",
    "    if l1 != l:\n",
    "        f =  - (hC / 2) * np.sin(pi * (l1 + l) * (1/2 - (h0 - hWL + (i - 1) * DeltaL_WL(x1)) / hC)) / ((l1 + l) * pi)\n",
    "        f +=   (hC / 2) * np.sin(pi * (l1 - l) * (1/2 - (h0 - hWL + (i - 1) * DeltaL_WL(x1)) / hC)) / ((l1 - l) * pi)\n",
    "        f -=   (hC / 2) * np.sin(pi * (l1 - l) * (1/2 - (h0 - hWL +  i      * DeltaL_WL(x1)) / hC)) / ((l1 - l) * pi)\n",
    "        f +=   (hC / 2) * np.sin(pi * (l1 + l) * (1/2 - (h0 - hWL +  i      * DeltaL_WL(x1)) / hC)) / ((l1 + l) * pi)\n",
    "    else:\n",
    "        f =  - (hC / (4 * l * pi)) * np.sin(pi * l * ((hC - 2 * (h0 - hWL + (i - 1) * DeltaL_WL(x1)))/ hC))\n",
    "        f +=   (hC / (4 * l * pi)) * np.sin(pi * l * ((hC - 2 * (h0 - hWL +  i      * DeltaL_WL(x1)))/ hC))\n",
    "        f +=   DeltaL_WL(x1) / 2\n",
    "        \n",
    "    return f"
   ]
  },
  {
   "cell_type": "markdown",
   "metadata": {},
   "source": [
    "### Quantum dot integrals equations"
   ]
  },
  {
   "cell_type": "markdown",
   "metadata": {},
   "source": [
    "$F_{l^\\prime l}^{QD}$"
   ]
  },
  {
   "cell_type": "code",
   "execution_count": 18,
   "metadata": {},
   "outputs": [],
   "source": [
    "def FllQD(i, l, l1):\n",
    "    \"\"\"_summary_\n",
    "\n",
    "    Args:\n",
    "        i (_type_): _description_\n",
    "        l (_type_): _description_\n",
    "        l1 (_type_): _description_\n",
    "\n",
    "    Returns:\n",
    "        _type_: _description_\n",
    "    \"\"\"\n",
    "    if l1 != l:\n",
    "        f =  (hC / 2) * np.sin(pi * (l1 + l) * (1/2 - (h0 + (i - 1) * DeltaL_QD(x1)) / hC)) / ((l1 + l) * pi)\n",
    "        f += (hC / 2) * np.sin(pi * (l1 - l) * (1/2 - (h0 + (i - 1) * DeltaL_QD(x1)) / hC)) / ((l1 - l) * pi)\n",
    "        f -= (hC / 2) * np.sin(pi * (l1 - l) * (1/2 - (h0 +  i      * DeltaL_QD(x1)) / hC)) / ((l1 - l) * pi)\n",
    "        f -= (hC / 2) * np.sin(pi * (l1 + l) * (1/2 - (h0 +  i      * DeltaL_QD(x1)) / hC)) / ((l1 + l) * pi)\n",
    "    else:\n",
    "        f =  (hC / (4 * l * pi)) * np.sin(pi * l * ((hC - 2 * (h0 + (i - 1) * DeltaL_QD(x1)))/ hC))\n",
    "        f -= (hC / (4 * l * pi)) * np.sin(pi * l * ((hC - 2 * (h0 +  i      * DeltaL_QD(x1)))/ hC))\n",
    "        f += DeltaL_QD(x1) / 2\n",
    "        \n",
    "    return f"
   ]
  },
  {
   "cell_type": "markdown",
   "metadata": {},
   "source": [
    "$G_{l^\\prime l}^{QD}$"
   ]
  },
  {
   "cell_type": "code",
   "execution_count": 19,
   "metadata": {},
   "outputs": [],
   "source": [
    "def GllWL(i, l, l1):\n",
    "    \"\"\"_summary_\n",
    "\n",
    "    Args:\n",
    "        i (_type_): _description_\n",
    "        l (_type_): _description_\n",
    "        l1 (_type_): _description_\n",
    "\n",
    "    Returns:\n",
    "        _type_: _description_\n",
    "    \"\"\"\n",
    "    if l1 != l:\n",
    "        f =  - (hC / 2) * np.sin(pi * (l1 + l) * (1/2 - (h0 + (i - 1) * DeltaL_QD(x1)) / hC)) / ((l1 + l) * pi)\n",
    "        f +=   (hC / 2) * np.sin(pi * (l1 - l) * (1/2 - (h0 + (i - 1) * DeltaL_QD(x1)) / hC)) / ((l1 - l) * pi)\n",
    "        f -=   (hC / 2) * np.sin(pi * (l1 - l) * (1/2 - (h0 +  i      * DeltaL_QD(x1)) / hC)) / ((l1 - l) * pi)\n",
    "        f +=   (hC / 2) * np.sin(pi * (l1 + l) * (1/2 - (h0 +  i      * DeltaL_QD(x1)) / hC)) / ((l1 + l) * pi)\n",
    "    else:\n",
    "        f =  - (hC / (4 * l * pi)) * np.sin(pi * l * ((hC - 2 * (h0 + (i - 1) * DeltaL_WL(x1)))/ hC))\n",
    "        f +=   (hC / (4 * l * pi)) * np.sin(pi * l * ((hC - 2 * (h0 +  i      * DeltaL_WL(x1)))/ hC))\n",
    "        f +=   DeltaL_QD(x1) / 2\n",
    "        \n",
    "    return f"
   ]
  },
  {
   "cell_type": "markdown",
   "metadata": {},
   "source": [
    "## Matrix calculation"
   ]
  },
  {
   "cell_type": "markdown",
   "metadata": {},
   "source": [
    "### $l^\\prime \\ne l$"
   ]
  },
  {
   "cell_type": "markdown",
   "metadata": {},
   "source": [
    "#### First integral\n",
    "$$\n",
    "    P\\int_0^{R_c}{2\\pi r J_m(k_{mn^\\prime} r) J_m(k_{mn} r) dr} \\times \\sum_{i = 1}^{M}{\\left(\\frac{\\hbar^2}{2 m_{2j}^*} - \\frac{\\hbar^2}{2 m_{B}^*}\\right)F_{l^\\prime l}^{WL}(i)}\n",
    "$$"
   ]
  },
  {
   "cell_type": "code",
   "execution_count": 56,
   "metadata": {},
   "outputs": [],
   "source": [
    "def I1(l, m, n, l1, m1, n1):\n",
    "    \n",
    "    def f(r):\n",
    "            return 2 * pi * r * sc.jv(m, k(m, n1) * r) * sc.jv(m, k(m, n) * r)\n",
    "    integ = quad(f, 0, rC)[0]\n",
    "        \n",
    "    p = P(l, m, n, l1, m1, n1)\n",
    "    sum = np.sum(np.array([(hBar ** 2 /(2 * Mass2(x(h0 - i * DeltaL_WL(x1)))) - hBar ** 2/(2 * Mass1(0))) * FllWL(i, l, l1) for i in range(1, DivWL(x1) + 1)]))\n",
    "    \n",
    "    return p * integ * sum"
   ]
  },
  {
   "cell_type": "code",
   "execution_count": 67,
   "metadata": {},
   "outputs": [
    {
     "data": {
      "text/plain": [
       "array([0, 0, 0, 0, 0, 0, 0, 0, 0, 0, 0, 0, 0, 0])"
      ]
     },
     "execution_count": 67,
     "metadata": {},
     "output_type": "execute_result"
    }
   ],
   "source": [
    "np.array([x(h0 - hWL + i * DeltaL_WL(x1)) for i in range(1, DivWL(x1) + 1)])"
   ]
  }
 ],
 "metadata": {
  "kernelspec": {
   "display_name": "Python 3.11.0 ('min-sci')",
   "language": "python",
   "name": "python3"
  },
  "language_info": {
   "codemirror_mode": {
    "name": "ipython",
    "version": 3
   },
   "file_extension": ".py",
   "mimetype": "text/x-python",
   "name": "python",
   "nbconvert_exporter": "python",
   "pygments_lexer": "ipython3",
   "version": "3.11.0"
  },
  "orig_nbformat": 4,
  "vscode": {
   "interpreter": {
    "hash": "f37f099bbeb7d46d218bd11ac52767970fa07292ff8a9493a56d7c78f64b7a2e"
   }
  }
 },
 "nbformat": 4,
 "nbformat_minor": 2
}
