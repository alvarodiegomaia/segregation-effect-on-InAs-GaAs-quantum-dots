{
 "cells": [
  {
   "cell_type": "code",
   "execution_count": 72,
   "metadata": {},
   "outputs": [],
   "source": [
    "import numpy as np\n",
    "import matplotlib.pyplot as plt\n",
    "import scipy.special as sc\n",
    "from scipy.integrate import quad"
   ]
  },
  {
   "cell_type": "markdown",
   "metadata": {},
   "source": [
    "## Physical constants"
   ]
  },
  {
   "cell_type": "code",
   "execution_count": 73,
   "metadata": {},
   "outputs": [],
   "source": [
    "# Physical constants\n",
    "pi = np.pi\n",
    "angstron = 1e-10\n",
    "hBar =  6.626086e-34/(2 * pi)\n",
    "eV = 1.60217646e-19\n",
    "\n",
    "# Electron constants\n",
    "electronMass = 9.11e-31\n",
    "electronMassBarrier = 0.0665 * electronMass\n",
    "\n",
    "# Hole constant\n",
    "holeMass = 2.18 * electronMass\n",
    "holeMassBarrier = 0.33 * electronMass"
   ]
  },
  {
   "cell_type": "markdown",
   "metadata": {},
   "source": [
    "## Model parameters"
   ]
  },
  {
   "cell_type": "markdown",
   "metadata": {},
   "source": [
    "### Physical model parameters"
   ]
  },
  {
   "cell_type": "code",
   "execution_count": 74,
   "metadata": {},
   "outputs": [],
   "source": [
    "# Temperatura [K]\n",
    "T = 77.0\n",
    "\n",
    "# Porção do offset da banda de condução [%]\n",
    "offset = 70.0"
   ]
  },
  {
   "cell_type": "markdown",
   "metadata": {},
   "source": [
    "### Quantum dot input parameters"
   ]
  },
  {
   "cell_type": "code",
   "execution_count": 75,
   "metadata": {},
   "outputs": [],
   "source": [
    "# Quantum dot height [Angstrons]\n",
    "heightQD = 40.0\n",
    "\n",
    "# QUantum dot radius [Angstrons]\n",
    "radiusQD = 100.0\n",
    "\n",
    "# Wetting layer thickness [Angstrons]      \n",
    "thicknessWL = 14 * 2.82675\n",
    "\n",
    "# Cylinder height [Angstrons]\n",
    "heightcylinder = 1600.0\n",
    "\n",
    "# Cylinder radius [Angstrons]\n",
    "radiuscylinder = 1600.0\n",
    "\n",
    "# Concentration of In na liga de In_xGa_(1-x)As at the QD bottom\n",
    "concentrationInAs_i = 0.0\n",
    "\n",
    "# Concentration of In na liga de In_xGa_(1-x)As at the QD top\n",
    "concentrationInAs_F = 100.0\n",
    "\n",
    "# Particle mass on barrier in Kg\n",
    "massBarrier = electronMassBarrier\n",
    "\n",
    "# Define the valor of hz\n",
    "posWL = ((radiusQD ** 2 -heightQD ** 2) / (2 * heightQD)) "
   ]
  },
  {
   "cell_type": "markdown",
   "metadata": {},
   "source": [
    "### Scale transformation"
   ]
  },
  {
   "cell_type": "code",
   "execution_count": 76,
   "metadata": {},
   "outputs": [],
   "source": [
    "hQD = heightQD * angstron\n",
    "r0 = radiusQD * angstron\n",
    "hWL = thicknessWL * angstron\n",
    "hC = heightcylinder * angstron\n",
    "rC = radiuscylinder * angstron\n",
    "h0 = posWL * angstron\n",
    "x0 = concentrationInAs_i / 100.0\n",
    "x1 = concentrationInAs_F / 100.0\n",
    "\n",
    "R = hQD + h0"
   ]
  },
  {
   "cell_type": "markdown",
   "metadata": {},
   "source": [
    "## Expansion parameters"
   ]
  },
  {
   "cell_type": "code",
   "execution_count": 77,
   "metadata": {},
   "outputs": [],
   "source": [
    "# Max value of the quantum numbers\n",
    "mmax = 0\n",
    "lmax = 70\n",
    "nmax = 50\n",
    "\n",
    "# Matriz dimension\n",
    "dimension = lmax * nmax"
   ]
  },
  {
   "cell_type": "markdown",
   "metadata": {},
   "source": [
    "## Functions"
   ]
  },
  {
   "cell_type": "markdown",
   "metadata": {},
   "source": [
    "### Mathematical functions"
   ]
  },
  {
   "cell_type": "code",
   "execution_count": 78,
   "metadata": {},
   "outputs": [],
   "source": [
    "def KroneckerDelta(i, j):\n",
    "    \"\"\"\n",
    "    Kronecker delta\n",
    "\n",
    "    Args:\n",
    "        i (int): i index\n",
    "        j (int): j index\n",
    "    \"\"\"\n",
    "    return int(i == j)"
   ]
  },
  {
   "cell_type": "markdown",
   "metadata": {},
   "source": [
    "### Geometric functions"
   ]
  },
  {
   "cell_type": "code",
   "execution_count": 79,
   "metadata": {},
   "outputs": [],
   "source": [
    "def Rj(j):\n",
    "    return np.sqrt(R ** 2 - (h0 + j * DeltaL_QD(x1)) ** 2)\n",
    "\n",
    "\n",
    "def zQD(r):\n",
    "    \"\"\"\n",
    "    Height of the QD in a radial distance r\n",
    "\n",
    "    Args:\n",
    "        r (float): Radial distance in Angstrons\n",
    "    \n",
    "    Returns:\n",
    "        float: The height of the quantum dot in Angstrons\n",
    "    \"\"\" \n",
    "\n",
    "    return np.sqrt(R ** 2 - r ** 2) - h0\n",
    "\n",
    "\n",
    "def DivQD(x):\n",
    "    \"\"\"\n",
    "    returns the number of discs in the division of the QD\n",
    "\n",
    "    Args:\n",
    "        T (float): Temperature in K\n",
    "        x (float): Concentration of InAs\n",
    "    \"\"\"\n",
    "    \n",
    "    return (1 + np.round(hQD / (A_InGaAs(x) / 2))).astype(int)\n",
    "\n",
    "\n",
    "def DivWL(x):\n",
    "    \"\"\"\n",
    "    returns the number of discs in the division of the WL\n",
    "\n",
    "    Args:\n",
    "        T (float): Temperature in K\n",
    "        x (float): Concentration of InAs\n",
    "        hWL (float): Thickness of the WL\n",
    "    \"\"\"\n",
    "    \n",
    "    return (1 + np.round(hWL / (A_InGaAs(x) / 2))).astype(int)\n",
    "\n",
    "\n",
    "def DeltaL_QD(x):\n",
    "    \"\"\"\n",
    "    returns the thickness of discs in the division of the QD\n",
    "\n",
    "    Args:\n",
    "        T (float): Temperature in K\n",
    "        x (float): Concentration of InAs\n",
    "        hQD (float): Height of the QD\n",
    "    \"\"\"\n",
    "    \n",
    "    return hQD/DivQD(x)\n",
    "\n",
    "\n",
    "def DeltaL_WL(x):\n",
    "    \"\"\"\n",
    "    returns the thickness of discs in the division of the WL\n",
    "\n",
    "    Args:\n",
    "        T (float): Temperature in K\n",
    "        x (float): Concentration of InAs\n",
    "        hWL (float): Height of the QD\n",
    "    \"\"\"\n",
    "    \n",
    "    return hWL/DivWL(x)"
   ]
  },
  {
   "cell_type": "markdown",
   "metadata": {},
   "source": [
    "### Semiconductor functions"
   ]
  },
  {
   "cell_type": "code",
   "execution_count": 80,
   "metadata": {},
   "outputs": [],
   "source": [
    "def x(z):\n",
    "    \"\"\"\n",
    "    Returns the InAs concentration along the z-axis\n",
    "\n",
    "    Args:\n",
    "        z (float): distance in z-axis\n",
    "\n",
    "    Returns:\n",
    "        float: InAs concentration\n",
    "    \"\"\"\n",
    "\n",
    "    if  z <= h0:\n",
    "            return 0\n",
    "\n",
    "    if z > R:\n",
    "        return 0\n",
    "\n",
    "    return (x1 - x0) / (R - h0) * z + (x0 - h0 * (x1 - x0) / (R - h0))\n",
    "\n",
    "\n",
    "def x_WL(i):\n",
    "    return  x1 * (1 - 0.85) * 0.85 ** i\n",
    "\n",
    "\n",
    "def A_InGaAs(x):\n",
    "    \"\"\"\n",
    "    Net parameter of In_XGa_(1-x)As in meters.\n",
    "\n",
    "    Args:\n",
    "        T (float): Temperature in K\n",
    "        x (float): InAs Concentration\n",
    "    \"\"\"\n",
    "    return (5.65325 + 3.88E-5 * (T - 300.0) + (0.40505 - 1.14E-5 * (T - 300.0)) * x) * angstron\n",
    "\n",
    "\n",
    "def Mass1(x):\n",
    "    \"\"\"\n",
    "    Parallel effective mass in unities of m0.\n",
    "\n",
    "    Args:\n",
    "        x (float): InAs Concentration\n",
    "    \"\"\"\n",
    "    return (0.067 - 0.0131318 * x - 0.015862 * x ** 2) * electronMass\n",
    "\n",
    "\n",
    "def Mass2(x):\n",
    "    \"\"\"\n",
    "    Perpendicular effective mass in unities of m0.\n",
    "\n",
    "    Args:\n",
    "        x (float): InAs Concentration\n",
    "    \"\"\"\n",
    "    return (0.067 - 0.000173691 * x - 0.0246154 * x ** 2) * electronMass\n",
    "\n",
    "\n",
    "def V0(x):\n",
    "    \"\"\"\n",
    "    The height of the potential barrier for the conduction band\n",
    "\n",
    "    Args:\n",
    "        x (float): InAs concentration\n",
    "\n",
    "    Returns:\n",
    "        float: The height of the barrier in eV\n",
    "    \"\"\"\n",
    "    return (-0.0007938071289409138 + 0.5560814352172014 * x - 0.08851986807247743 * x ** 2) * eV\n",
    "\n",
    "\n",
    "def k(m, n):\n",
    "    \"\"\"\n",
    "    Bessel length\n",
    "\n",
    "    Args:\n",
    "        m (int): Order of the Bessel function\n",
    "        n (int): Index of the Bessel root\n",
    "    \"\"\"\n",
    "    return sc.jn_zeros(1, n + 1)[n] / rC"
   ]
  },
  {
   "cell_type": "markdown",
   "metadata": {},
   "source": [
    "### Eigen function normalization"
   ]
  },
  {
   "cell_type": "code",
   "execution_count": 81,
   "metadata": {},
   "outputs": [],
   "source": [
    "def beta(m, n):\n",
    "    \"\"\"\n",
    "    Normalization constant for each eigenfunction\n",
    "\n",
    "    Args:\n",
    "        m (int): Quantum number m\n",
    "        n (int): Quantum number n\n",
    "\n",
    "    Returns:\n",
    "        The normalization constant for an eigenfunction\n",
    "    \"\"\"\n",
    "    \n",
    "    \n",
    "    return np.sqrt(2 / (rC ** 2 * sc.jv(m + 1, k(m, n) * rC) * sc.jv(m + 1, k(m, n) * rC) * hC * pi))"
   ]
  },
  {
   "cell_type": "markdown",
   "metadata": {},
   "source": [
    "### Matriz expansion constants"
   ]
  },
  {
   "cell_type": "code",
   "execution_count": 82,
   "metadata": {},
   "outputs": [],
   "source": [
    "def P(l, m, n, l1, m1, n1):\n",
    "    \"\"\"\n",
    "    Matriz element constant P\n",
    "\n",
    "    Args:\n",
    "        l (int): Quantum number l\n",
    "        m (int): Quantum number m\n",
    "        n (int): Quantum number n\n",
    "        l1 (int): Quantum number l\n",
    "        m1 (int): Quantum number m\n",
    "        n1 (int): Quantum number n\n",
    "\n",
    "    Returns:\n",
    "        float: the value of the constant\n",
    "    \"\"\"\n",
    "    return beta(m, n1) * beta(m, n) * KroneckerDelta(m, m1) * (l * pi / hC) * ( (l1 * pi / hC))\n",
    "\n",
    "\n",
    "def Q(l, m, n, l1, m1, n1):\n",
    "    \"\"\"\n",
    "    Matriz element constant P\n",
    "\n",
    "    Args:\n",
    "        l (int): Quantum number l\n",
    "        m (int): Quantum number m\n",
    "        n (int): Quantum number n\n",
    "        l1 (int): Quantum number l\n",
    "        m1 (int): Quantum number m\n",
    "        n1 (int): Quantum number n\n",
    "\n",
    "    Returns:\n",
    "        float: the value of the constant\n",
    "    \"\"\"\n",
    "    return beta(m, n1) * beta(m, n) * KroneckerDelta(m, m1) * k(m, n1) * k(m, n) / 2"
   ]
  },
  {
   "cell_type": "markdown",
   "metadata": {},
   "source": [
    "### Wetting layer integrals equations"
   ]
  },
  {
   "cell_type": "markdown",
   "metadata": {},
   "source": [
    "$F_{l^\\prime l}^{WL}$"
   ]
  },
  {
   "cell_type": "code",
   "execution_count": 83,
   "metadata": {},
   "outputs": [],
   "source": [
    "def FllWL(i, l, l1):\n",
    "    \"\"\"\n",
    "    Solution of the sin integral F_{ll'} on wetting layer\n",
    "\n",
    "    Args:\n",
    "        l (int): Quantum number l\n",
    "        l1 (int): Quantum number l\n",
    "        z0 (float): Integral lower limit\n",
    "        z1 (float): Integral upper limit\n",
    "\n",
    "    Returns:\n",
    "        float: Solution of the integral\n",
    "    \"\"\"\n",
    "    if l1 != l:\n",
    "        f =  (hC / 2) * np.sin(pi * (l1 + l) * (1/2 - (h0 - hWL + (i - 1) * DeltaL_WL(x1)) / hC)) / ((l1 + l) * pi)\n",
    "        f += (hC / 2) * np.sin(pi * (l1 - l) * (1/2 - (h0 - hWL + (i - 1) * DeltaL_WL(x1)) / hC)) / ((l1 - l) * pi)\n",
    "        f -= (hC / 2) * np.sin(pi * (l1 - l) * (1/2 - (h0 - hWL +  i      * DeltaL_WL(x1)) / hC)) / ((l1 - l) * pi)\n",
    "        f -= (hC / 2) * np.sin(pi * (l1 + l) * (1/2 - (h0 - hWL +  i      * DeltaL_WL(x1)) / hC)) / ((l1 + l) * pi)\n",
    "    else:\n",
    "        f =  (hC / (4 * l * pi)) * np.sin(pi * l * ((hC - 2 * (h0 - hWL + (i - 1) * DeltaL_WL(x1)))/ hC))\n",
    "        f -= (hC / (4 * l * pi)) * np.sin(pi * l * ((hC - 2 * (h0 - hWL +  i      * DeltaL_WL(x1)))/ hC))\n",
    "        f += DeltaL_WL(x1) / 2\n",
    "        \n",
    "    return f"
   ]
  },
  {
   "cell_type": "markdown",
   "metadata": {},
   "source": [
    "$G_{l^\\prime l}^{WL}$"
   ]
  },
  {
   "cell_type": "code",
   "execution_count": 84,
   "metadata": {},
   "outputs": [],
   "source": [
    "def GllWL(i, l, l1):\n",
    "    \"\"\"\n",
    "    Solution of the sin integral G_{ll'} on wetting layer\n",
    "\n",
    "    Args:\n",
    "        l (int): Quantum number l\n",
    "        l1 (int): Quantum number l\n",
    "        z0 (float): Integral lower limit\n",
    "        z1 (float): Integral upper limit\n",
    "\n",
    "    Returns:\n",
    "        float: Solution of the integral\n",
    "    \"\"\"\n",
    "    if l1 != l:\n",
    "        f =  - (hC / 2) * np.sin(pi * (l1 + l) * (1/2 - (h0 - hWL + (i - 1) * DeltaL_WL(x1)) / hC)) / ((l1 + l) * pi)\n",
    "        f +=   (hC / 2) * np.sin(pi * (l1 - l) * (1/2 - (h0 - hWL + (i - 1) * DeltaL_WL(x1)) / hC)) / ((l1 - l) * pi)\n",
    "        f -=   (hC / 2) * np.sin(pi * (l1 - l) * (1/2 - (h0 - hWL +  i      * DeltaL_WL(x1)) / hC)) / ((l1 - l) * pi)\n",
    "        f +=   (hC / 2) * np.sin(pi * (l1 + l) * (1/2 - (h0 - hWL +  i      * DeltaL_WL(x1)) / hC)) / ((l1 + l) * pi)\n",
    "    else:\n",
    "        f =  - (hC / (4 * l * pi)) * np.sin(pi * l * ((hC - 2 * (h0 - hWL + (i - 1) * DeltaL_WL(x1)))/ hC))\n",
    "        f +=   (hC / (4 * l * pi)) * np.sin(pi * l * ((hC - 2 * (h0 - hWL +  i      * DeltaL_WL(x1)))/ hC))\n",
    "        f +=   DeltaL_WL(x1) / 2\n",
    "        \n",
    "    return f"
   ]
  },
  {
   "cell_type": "markdown",
   "metadata": {},
   "source": [
    "### Quantum dot integrals equations"
   ]
  },
  {
   "cell_type": "markdown",
   "metadata": {},
   "source": [
    "$F_{l^\\prime l}^{QD}$"
   ]
  },
  {
   "cell_type": "code",
   "execution_count": 85,
   "metadata": {},
   "outputs": [],
   "source": [
    "def FllQD(i, l, l1):\n",
    "    \"\"\"\n",
    "    Solution of the sin integral F_{ll'} on quantum dot\n",
    "\n",
    "    Args:\n",
    "        l (int): Quantum number l\n",
    "        l1 (int): Quantum number l\n",
    "        z0 (float): Integral lower limit\n",
    "        z1 (float): Integral upper limit\n",
    "\n",
    "    Returns:\n",
    "        float: Solution of the integral\n",
    "    \"\"\"\n",
    "    if l1 != l:\n",
    "        f =  (hC / 2) * np.sin(pi * (l1 + l) * (1/2 - (h0 + (i - 1) * DeltaL_QD(x1)) / hC)) / ((l1 + l) * pi)\n",
    "        f += (hC / 2) * np.sin(pi * (l1 - l) * (1/2 - (h0 + (i - 1) * DeltaL_QD(x1)) / hC)) / ((l1 - l) * pi)\n",
    "        f -= (hC / 2) * np.sin(pi * (l1 - l) * (1/2 - (h0 +  i      * DeltaL_QD(x1)) / hC)) / ((l1 - l) * pi)\n",
    "        f -= (hC / 2) * np.sin(pi * (l1 + l) * (1/2 - (h0 +  i      * DeltaL_QD(x1)) / hC)) / ((l1 + l) * pi)\n",
    "    else:\n",
    "        f =  (hC / (4 * l * pi)) * np.sin(pi * l * ((hC - 2 * (h0 + (i - 1) * DeltaL_QD(x1)))/ hC))\n",
    "        f -= (hC / (4 * l * pi)) * np.sin(pi * l * ((hC - 2 * (h0 +  i      * DeltaL_QD(x1)))/ hC))\n",
    "        f += DeltaL_QD(x1) / 2\n",
    "        \n",
    "    return f"
   ]
  },
  {
   "cell_type": "markdown",
   "metadata": {},
   "source": [
    "$G_{l^\\prime l}^{QD}$"
   ]
  },
  {
   "cell_type": "code",
   "execution_count": 86,
   "metadata": {},
   "outputs": [],
   "source": [
    "def GllQD(i, l, l1):\n",
    "    \"\"\"\n",
    "        Solution of the sin integral G_{ll'} on quantum dot\n",
    "\n",
    "    Args:\n",
    "        l (int): Quantum number l\n",
    "        l1 (int): Quantum number l\n",
    "        z0 (float): Integral lower limit\n",
    "        z1 (float): Integral upper limit\n",
    "\n",
    "    Returns:\n",
    "        float: Solution of the integral\n",
    "    \"\"\"\n",
    "    if l1 != l:\n",
    "        f =  - (hC / 2) * np.sin(pi * (l1 + l) * (1/2 - (h0 + (i - 1) * DeltaL_QD(x1)) / hC)) / ((l1 + l) * pi)\n",
    "        f +=   (hC / 2) * np.sin(pi * (l1 - l) * (1/2 - (h0 + (i - 1) * DeltaL_QD(x1)) / hC)) / ((l1 - l) * pi)\n",
    "        f -=   (hC / 2) * np.sin(pi * (l1 - l) * (1/2 - (h0 +  i      * DeltaL_QD(x1)) / hC)) / ((l1 - l) * pi)\n",
    "        f +=   (hC / 2) * np.sin(pi * (l1 + l) * (1/2 - (h0 +  i      * DeltaL_QD(x1)) / hC)) / ((l1 + l) * pi)\n",
    "    else:\n",
    "        f =  - (hC / (4 * l * pi)) * np.sin(pi * l * ((hC - 2 * (h0 + (i - 1) * DeltaL_WL(x1)))/ hC))\n",
    "        f +=   (hC / (4 * l * pi)) * np.sin(pi * l * ((hC - 2 * (h0 +  i      * DeltaL_WL(x1)))/ hC))\n",
    "        f +=   DeltaL_QD(x1) / 2\n",
    "        \n",
    "    return f"
   ]
  },
  {
   "cell_type": "markdown",
   "metadata": {},
   "source": [
    "## Matrix calculation"
   ]
  },
  {
   "cell_type": "markdown",
   "metadata": {},
   "source": [
    "### Free particle integral\n",
    "\n",
    "$$\n",
    "    f_{lmnl^\\prime m^\\prime n^\\prime} = \\left[\n",
    "        \\frac{\\hbar^2}{2m_B^*}\n",
    "        \\left(\n",
    "            \\frac{l^2\\pi^2}{H_c^2} + \\frac{\\alpha^2}{R_c^2}\n",
    "        \\right)\n",
    "    \\right]\\delta_{mm^\\prime}\\delta_{nn^\\prime}\n",
    "$$"
   ]
  },
  {
   "cell_type": "code",
   "execution_count": 87,
   "metadata": {},
   "outputs": [],
   "source": [
    "def f(l, m, n, l1, m1, n1):\n",
    "    \"\"\"\n",
    "    Returns the solution of the free particle integral\n",
    "    inside a cylinder\n",
    "\n",
    "    Args:\n",
    "        l (int): Quantum number l\n",
    "        m (int): Quantum number m\n",
    "        n (int): Quantum number n\n",
    "        l1 (int): Quantum number l\n",
    "        m1 (int): Quantum number m\n",
    "        n1 (int): Quantum number n\n",
    "    \"\"\"\n",
    "    \n",
    "    return (((hBar ** 2) / (2 * Mass1(0.0))) * ((l * pi / hC) ** 2 + k(m,n) ** 2)) * KroneckerDelta(m, m1) * KroneckerDelta(n, n1)"
   ]
  },
  {
   "cell_type": "markdown",
   "metadata": {},
   "source": [
    "#### First integral on WL"
   ]
  },
  {
   "cell_type": "markdown",
   "metadata": {},
   "source": [
    "$$\n",
    "    i_1^{WL} = P\\int_0^{R_c}{2\\pi r J_m(k_{mn^\\prime} r) J_m(k_{mn} r) dr} \\times \\sum_{i = 1}^{M}{\\left(\\frac{\\hbar^2}{2 m_{2i}^*} - \\frac{\\hbar^2}{2 m_{B}^*}\\right)F_{l^\\prime l}^{WL}(i)}\n",
    "$$"
   ]
  },
  {
   "cell_type": "code",
   "execution_count": 88,
   "metadata": {},
   "outputs": [],
   "source": [
    "def I1_WL(l, m, n, l1, m1, n1):\n",
    "    \n",
    "    def IntegralFunction(r):\n",
    "            return 2 * pi * r * sc.jv(m, k(m, n1) * r) * sc.jv(m, k(m, n) * r)\n",
    "    \n",
    "    \n",
    "    integral = quad(IntegralFunction, 0, rC)[0]\n",
    "    \n",
    "        \n",
    "    def sumFunction(i):\n",
    "            return (hBar ** 2 /(2 * Mass2(x_WL(i))) - hBar ** 2/(2 * Mass1(0))) * FllWL(i, l, l1)\n",
    "    \n",
    "    \n",
    "    sum = np.sum(np.array([sumFunction(i) for i in range(1, DivWL(x1) + 1)]))\n",
    "    \n",
    "    p = P(l, m, n, l1, m1, n1)\n",
    "    return p * integral * sum"
   ]
  },
  {
   "cell_type": "markdown",
   "metadata": {},
   "source": [
    "#### First integral on QD\n",
    "\n",
    "$$\n",
    "   i_1^{QD} =  P\n",
    "    \\sum_{j = 1}^{N}\\left\\{\n",
    "    \\int_0^{R_j}{2\\pi r J_m(k_{mn^\\prime} r) J_m(k_{mn} r) dr} \\times \\left(\\frac{\\hbar^2}{2 m_{2j}^*} - \\frac{\\hbar^2}{2 m_{B}^*}\\right)F_{l^\\prime l}^{QD}(j)\n",
    "    \\right\\}\n",
    "$$"
   ]
  },
  {
   "cell_type": "code",
   "execution_count": 89,
   "metadata": {},
   "outputs": [],
   "source": [
    "def I1_QD(l, m, n, l1, m1, n1):\n",
    "    \n",
    "    def IntegralFunction(r):\n",
    "        return 2 * pi * r * sc.jv(m, k(m, n1) * r) * sc.jv(m, k(m, n) * r)\n",
    "    \n",
    "    \n",
    "    def Integral(i):\n",
    "        return quad(IntegralFunction, 0, Rj(i))\n",
    "    \n",
    "    \n",
    "    def sumFunction(i):\n",
    "            return quad(IntegralFunction, 0, Rj(i))[0] * (hBar ** 2 /(2 * Mass2(x(h0 + i * DeltaL_QD(x1)))) - hBar ** 2/(2 * Mass1(0))) * FllQD(i, l, l1)\n",
    "        \n",
    "    \n",
    "    sum = np.sum(np.array([sumFunction(i) for i in range(1, DivQD(x1) + 1)]))\n",
    "    \n",
    "    \n",
    "    p = P(l, m, n, l1, m1, n1)\n",
    "    return p * sum"
   ]
  },
  {
   "cell_type": "markdown",
   "metadata": {},
   "source": [
    "#### Second integral on WL\n",
    "\n",
    "$$\n",
    "    i_2^{WL} = Q\\int_0^{R_c}{\n",
    "        2\\pi\\left\\{\n",
    "            \\left[\n",
    "                J_{m-1}(k_{mn^\\prime}r)J_{m-1}(k_{mn}r)\n",
    "            \\right] +\n",
    "            \\left[\n",
    "                J_{m+1}(k_{mn^\\prime}r)J_{m+1}(k_{mn}r)\n",
    "            \\right]dr \\times\n",
    "            \\left(\n",
    "                \\frac{\\hbar^2}{2m_{1j}^*(z)} - \\frac{\\hbar^2}{2m_{B}^*}\n",
    "            \\right) \\times\n",
    "            \\sum_{i = 1}^M{G_{l^\\prime l}^{WL}}\n",
    "        \\right\\}\n",
    "    }\n",
    "$$"
   ]
  },
  {
   "cell_type": "code",
   "execution_count": 90,
   "metadata": {},
   "outputs": [
    {
     "ename": "SyntaxError",
     "evalue": "unmatched ')' (4069434300.py, line 11)",
     "output_type": "error",
     "traceback": [
      "\u001b[1;36m  Cell \u001b[1;32mIn [90], line 11\u001b[1;36m\u001b[0m\n\u001b[1;33m    return GllWL(i, l, l1) * (hBar ** 2 /(2 * Mass2(x_WL(i)))) - hBar ** 2/(2 * Mass1(0)))\u001b[0m\n\u001b[1;37m                                                                                         ^\u001b[0m\n\u001b[1;31mSyntaxError\u001b[0m\u001b[1;31m:\u001b[0m unmatched ')'\n"
     ]
    }
   ],
   "source": [
    "def I2_WL(l, m, n, l1, m1, n1):\n",
    "    \n",
    "    def IntegralFunction(r):\n",
    "        return 2 * pi * r * (sc.jv(m - 1, k(m, n1) * r) * sc.jv(m - 1, k(m, n) * r) + sc.jv(m + 1, k(m, n1) * r) * sc.jv(m + 1, k(m, n) * r))\n",
    "    \n",
    "    \n",
    "    integral = quad(IntegralFunction, 0, rC)[0]\n",
    "    \n",
    "    \n",
    "    def sumFunction(i):\n",
    "            return GllWL(i, l, l1) * (hBar ** 2 /(2 * Mass2(x_WL(i)))) - hBar ** 2/(2 * Mass1(0)))\n",
    "        \n",
    "    \n",
    "    sum = np.sum(np.array([sumFunction(i) for i in range(1, DivWL(x1) + 1)]))\n",
    "    \n",
    "    \n",
    "    q = Q(l, m, n, l1, m1, n1)\n",
    "    return q * integral * sum"
   ]
  },
  {
   "cell_type": "markdown",
   "metadata": {},
   "source": [
    "#### Second integral on QD\n",
    "\n",
    "$$\n",
    "    i_2^{QD} = Q\\sum_{j = 1}^N{\\left\\{\n",
    "        \\int_0^{R_j}{\n",
    "            2\\pi\\left\\{\n",
    "                \\left[\n",
    "                    J_{m-1}(k_{mn^\\prime}r)J_{m-1}(k_{mn}r)\n",
    "                \\right] +\n",
    "                \\left[\n",
    "                    J_{m+1}(k_{mn^\\prime}r)J_{m+1}(k_{mn}r)\n",
    "                \\right]dr \\times\n",
    "                \\left(\n",
    "                    \\frac{\\hbar^2}{2m_{1j}^*(z)} - \\frac{\\hbar^2}{2m_{B}^*}\n",
    "                \\right) \\times\n",
    "                G_{l^\\prime l}^{QD}\n",
    "            \\right\\}\n",
    "        }\n",
    "    \\right\\}}\n",
    "$$"
   ]
  },
  {
   "cell_type": "code",
   "execution_count": null,
   "metadata": {},
   "outputs": [],
   "source": [
    "def I2_QD(l, m, n, l1, m1, n1):\n",
    "    \n",
    "    def IntegralFunction(r):\n",
    "        return 2 * pi * r * (sc.jv(m - 1, k(m, n1) * r) * sc.jv(m - 1, k(m, n) * r) + sc.jv(m + 1, k(m, n1) * r) * sc.jv(m + 1, k(m, n) * r))\n",
    "    \n",
    "    \n",
    "    def Integral(i):\n",
    "        return quad(IntegralFunction, 0, Rj(i))\n",
    "    \n",
    "    \n",
    "    def sumFunction(i):\n",
    "            return quad(IntegralFunction, 0, Rj(i))[0] * (hBar ** 2 /(2 * Mass2(x(h0 + i * DeltaL_QD(x1)))) - hBar ** 2/(2 * Mass1(0))) * GllQD(i, l, l1)\n",
    "        \n",
    "    \n",
    "    sum = np.sum(np.array([sumFunction(i) for i in range(1, DivQD(x1) + 1)]))\n",
    "    \n",
    "    \n",
    "    q = Q(l, m, n, l1, m1, n1)\n",
    "    return q * sum"
   ]
  },
  {
   "cell_type": "markdown",
   "metadata": {},
   "source": [
    "#### $V_0$ integral on WL\n",
    "\n",
    "$$\n",
    "    i_{V_0}^{WL} = -\\beta_{mn^\\prime}^*\\beta_{mn}\\delta_{mm^\\prime}\n",
    "    \\int_0^{R_c}{\n",
    "        2\\pi r J_m(k_{mn^\\prime}r)J_m(k_{mn}r) dr\n",
    "    }\\times\n",
    "    \\sum_{i = 1}^M{\n",
    "        V_{0i}(z) \\times G_{l^\\prime l}^{WL}(i)\n",
    "    }\n",
    "$$\n"
   ]
  },
  {
   "cell_type": "code",
   "execution_count": null,
   "metadata": {},
   "outputs": [],
   "source": [
    "def Iv0_WL(l, m, n, l1, m1, n1):\n",
    "    \n",
    "    def IntegralFunction(r):\n",
    "        return 2 * pi * r * sc.jv(m, k(m, n1) * r) * sc.jv(m, k(m, n) * r)\n",
    "    \n",
    "    integral = quad(IntegralFunction, 0, rC)[0]\n",
    "    \n",
    "    def sumFunction(i):\n",
    "            return GllWL(i, l, l1) * V0(x_WL(i))\n",
    "        \n",
    "    sum = np.sum(np.array([sumFunction(i) for i in range(1, DivWL(x1) + 1)]))\n",
    "    \n",
    "    return - beta(m, n1) * beta(m, n) * KroneckerDelta(m, m1) * integral * sum"
   ]
  },
  {
   "cell_type": "markdown",
   "metadata": {},
   "source": [
    "#### $V_0$ integral on QD\n",
    "\n",
    "$$\n",
    "    i_{V_0}^{QD} = -\\beta_{mn^\\prime}^*\\beta_{mn}\\delta_{mm^\\prime}\n",
    "    \\sum_{j = 1}^N{\n",
    "        \\left\\{\n",
    "            \\int_0^{R_j}{\n",
    "                2\\pi r J_m(k_{mn^\\prime}r)J_m(k_{mn}r) dr\n",
    "            } \\times\n",
    "            V_{0i}(z) \\times\n",
    "            G_{l^\\prime l}^{QD}(i)\n",
    "        \\right\\}\n",
    "    }\n",
    "    \n",
    "$$\n"
   ]
  },
  {
   "cell_type": "code",
   "execution_count": null,
   "metadata": {},
   "outputs": [],
   "source": [
    "def Iv0_QD(l, m, n, l1, m1, n1):\n",
    "    \n",
    "    def IntegralFunction(r):\n",
    "        return 2 * pi * r * sc.jv(m, k(m, n1) * r) * sc.jv(m, k(m, n) * r)\n",
    "    \n",
    "    def Integral(i):\n",
    "        return quad(IntegralFunction, 0, Rj(i))\n",
    "    \n",
    "    def sumFunction(i):\n",
    "            return Integral(i) * V0(x(h0 + i * DeltaL_QD)) * GllQD(i, l, l1)\n",
    "        \n",
    "    sum = np.sum(np.array([sumFunction(i) for i in range(1, DivQD(x1) + 1)]))\n",
    "        \n",
    "    return - beta(m, n1) * beta(m, n) * KroneckerDelta(m, m1) * sum"
   ]
  },
  {
   "cell_type": "markdown",
   "metadata": {},
   "source": [
    "#### Matriz element\n",
    "\n",
    "$$\n",
    "\\begin{split}\n",
    "    A_{lmnl^\\prime m^\\prime n^\\prime} &= f_{lmnl^\\prime m^\\prime n^\\prime}\\\\\n",
    "        &+ i_{1}^{WL}(l, m, n, l^\\prime, m^\\prime, n^\\prime) \\\\\n",
    "        &+ i_{1}^{QD}(l, m, n, l^\\prime, m^\\prime, n^\\prime) \\\\\n",
    "        &+ i_{2}^{WL}(l, m, n, l^\\prime, m^\\prime, n^\\prime) \\\\\n",
    "        &+ i_{2}^{QD}(l, m, n, l^\\prime, m^\\prime, n^\\prime) \\\\\n",
    "        &+ i_{V_0}^{WL}(l, m, n, l^\\prime, m^\\prime, n^\\prime) \\\\\n",
    "        &+ i_{V_0}^{QD}(l, m, n, l^\\prime, m^\\prime, n^\\prime)\n",
    "\\end{split}\n",
    "$$"
   ]
  },
  {
   "cell_type": "code",
   "execution_count": null,
   "metadata": {},
   "outputs": [],
   "source": [
    "def MatrizELement(l, m, n, l1, m1, n1):\n",
    "    return f(l, m, n, l1, m1, n1) + I1_WL(l, m, n, l1, m1, n1) + I1_QD(l, m, n, l1, m1, n1) + I2_WL(l, m, n, l1, m1, n1) + I2_QD(l, m, n, l1, m1, n1) + Iv0_WL(l, m, n, l1, m1, n1) + Iv0_QD(l, m, n, l1, m1, n1)"
   ]
  }
 ],
 "metadata": {
  "kernelspec": {
   "display_name": "Python 3.10.8 ('ds-min')",
   "language": "python",
   "name": "python3"
  },
  "language_info": {
   "codemirror_mode": {
    "name": "ipython",
    "version": 3
   },
   "file_extension": ".py",
   "mimetype": "text/x-python",
   "name": "python",
   "nbconvert_exporter": "python",
   "pygments_lexer": "ipython3",
   "version": "3.10.8"
  },
  "orig_nbformat": 4,
  "vscode": {
   "interpreter": {
    "hash": "9ade0412071866431d8b774a620485852770d45d1c2ef436bd87e09a95a56173"
   }
  }
 },
 "nbformat": 4,
 "nbformat_minor": 2
}
